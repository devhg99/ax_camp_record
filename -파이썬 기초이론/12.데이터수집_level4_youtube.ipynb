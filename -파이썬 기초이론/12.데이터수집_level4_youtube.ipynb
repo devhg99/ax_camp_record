{
 "cells": [
  {
   "cell_type": "markdown",
   "id": "8124ba4b",
   "metadata": {},
   "source": [
    "- 목적\n",
    "    - 유투브 환경에서 수집\n",
    "    - 타겟 주소\n",
    "        - https://www.youtube.com/watch?v=cqylorHliFg\n",
    "\n",
    "    - 자바스크립트를 구동시켜서 스크롤을 강제로 진행 -> 댓글을 최대한 불러온다!! -> 수집\n",
    "\n",
    "- 실습\n",
    "    - 해당 주소를 접속해서 화면 띠워놓고 대기 "
   ]
  },
  {
   "cell_type": "code",
   "execution_count": 2,
   "id": "b7020409",
   "metadata": {},
   "outputs": [],
   "source": [
    "from selenium import webdriver as wd\n",
    "\n",
    "driver = wd.Chrome()\n",
    "driver.get('https://www.youtube.com/watch?v=cqylorHliFg')\n"
   ]
  },
  {
   "cell_type": "markdown",
   "id": "e42dc600",
   "metadata": {},
   "source": [
    "강제 스크롤을 통한 리뷰 불러오기(더보기)"
   ]
  },
  {
   "cell_type": "code",
   "execution_count": null,
   "id": "5f58ae77",
   "metadata": {},
   "outputs": [],
   "source": [
    "# 자바스크립을 강제로 실행 -> 명령어 주입\n",
    "# 스크롭 강제 진행 => 5초대기 -> 스크롤 ....\n",
    "import time\n",
    "\n",
    "for _ in range(30):\n",
    "    driver.execute_script('''\n",
    "        // 임의로 2000만큼 높이 이동 -> 스크롤 진행\n",
    "        window.scrollBy(0,2000)\n",
    "''')\n",
    "    time.sleep(5)"
   ]
  }
 ],
 "metadata": {
  "kernelspec": {
   "display_name": "Python 3",
   "language": "python",
   "name": "python3"
  },
  "language_info": {
   "codemirror_mode": {
    "name": "ipython",
    "version": 3
   },
   "file_extension": ".py",
   "mimetype": "text/x-python",
   "name": "python",
   "nbconvert_exporter": "python",
   "pygments_lexer": "ipython3",
   "version": "3.13.2"
  }
 },
 "nbformat": 4,
 "nbformat_minor": 5
}
